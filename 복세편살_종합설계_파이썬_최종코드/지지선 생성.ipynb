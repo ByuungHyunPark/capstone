{
 "cells": [
  {
   "cell_type": "code",
   "execution_count": 1,
   "metadata": {
    "scrolled": true
   },
   "outputs": [
    {
     "name": "stderr",
     "output_type": "stream",
     "text": [
      "C:\\anaconda3\\lib\\site-packages\\mpl_finance.py:22: DeprecationWarning: \n",
      "\n",
      "  =================================================================\n",
      "\n",
      "   WARNING: `mpl_finance` is deprecated:\n",
      "\n",
      "    Please use `mplfinance` instead (no hyphen, no underscore).\n",
      "\n",
      "    To install: `pip install --upgrade mplfinance` \n",
      "\n",
      "   For more information, see: https://pypi.org/project/mplfinance/\n",
      "\n",
      "  =================================================================\n",
      "\n",
      "  category=DeprecationWarning)\n"
     ]
    },
    {
     "name": "stdout",
     "output_type": "stream",
     "text": [
      "회사명 :  SK케미칼\n"
     ]
    }
   ],
   "source": [
    "import os\n",
    "import matplotlib.pyplot as plt\n",
    "from mpl_finance import candlestick2_ohlc\n",
    "from sklearn.cluster import KMeans\n",
    "from sklearn.metrics import silhouette_score\n",
    "\n",
    "import pandas as pd \n",
    "from file_rw import *\n",
    "from ast import literal_eval\n",
    "from datetime import datetime\n",
    "from pandas_datareader import data  \n",
    "\n",
    "\n",
    "start_date = datetime(2019,1,1)\n",
    "end_date = datetime(2021,3,1)\n",
    "\n",
    "stock_code_df = pd.read_csv('drop_na_df.csv', index_col = 0)[['회사명', '종목코드']]\n",
    "stock_code_df = stock_code_df[['회사명', '종목코드']]\n",
    "stock_code_df['종목코드'] = stock_code_df['종목코드'].apply(lambda x : str('%06d'%x))\n",
    "\n",
    "\n",
    "stock_code = \"285130\"\n",
    "\n",
    "kospi_df = data.get_data_yahoo(\"{}.KS\".format(stock_code), start_date, end_date) \n",
    "\n",
    "kospi_df.loc[:, 'stock_code'] = stock_code\n",
    "kospi_df.loc[:, 'date'] = kospi_df.index.astype('str')\n",
    "\n",
    "kospi_df = kospi_df.rename(columns = {\n",
    "                           'High' : 'high_price',\n",
    "                           'Low' : 'low_price',\n",
    "                           'Open' : 'open_price',\n",
    "                           'Close' : 'close_price',\n",
    "                           'Volume' :'volume'})\n",
    "\n",
    "kospi_df.reset_index(drop = True, inplace = True)\n",
    "kospi_df.drop('Adj Close', axis = 1, inplace = True)\n",
    "\n",
    "print('회사명 : ', stock_code_df.loc[stock_code_df['종목코드'] == stock_code, '회사명'].values[0])"
   ]
  },
  {
   "cell_type": "code",
   "execution_count": 2,
   "metadata": {},
   "outputs": [
    {
     "data": {
      "text/html": [
       "<div>\n",
       "<style scoped>\n",
       "    .dataframe tbody tr th:only-of-type {\n",
       "        vertical-align: middle;\n",
       "    }\n",
       "\n",
       "    .dataframe tbody tr th {\n",
       "        vertical-align: top;\n",
       "    }\n",
       "\n",
       "    .dataframe thead th {\n",
       "        text-align: right;\n",
       "    }\n",
       "</style>\n",
       "<table border=\"1\" class=\"dataframe\">\n",
       "  <thead>\n",
       "    <tr style=\"text-align: right;\">\n",
       "      <th></th>\n",
       "      <th>high_price</th>\n",
       "      <th>low_price</th>\n",
       "      <th>open_price</th>\n",
       "      <th>close_price</th>\n",
       "      <th>volume</th>\n",
       "      <th>stock_code</th>\n",
       "      <th>date</th>\n",
       "    </tr>\n",
       "  </thead>\n",
       "  <tbody>\n",
       "    <tr>\n",
       "      <th>526</th>\n",
       "      <td>380500.0</td>\n",
       "      <td>358000.0</td>\n",
       "      <td>380500.0</td>\n",
       "      <td>361500.0</td>\n",
       "      <td>203894.0</td>\n",
       "      <td>285130</td>\n",
       "      <td>2021-02-22</td>\n",
       "    </tr>\n",
       "    <tr>\n",
       "      <th>527</th>\n",
       "      <td>372500.0</td>\n",
       "      <td>352000.0</td>\n",
       "      <td>360000.0</td>\n",
       "      <td>366500.0</td>\n",
       "      <td>220378.0</td>\n",
       "      <td>285130</td>\n",
       "      <td>2021-02-23</td>\n",
       "    </tr>\n",
       "    <tr>\n",
       "      <th>528</th>\n",
       "      <td>390500.0</td>\n",
       "      <td>366500.0</td>\n",
       "      <td>369000.0</td>\n",
       "      <td>385000.0</td>\n",
       "      <td>404266.0</td>\n",
       "      <td>285130</td>\n",
       "      <td>2021-02-24</td>\n",
       "    </tr>\n",
       "    <tr>\n",
       "      <th>529</th>\n",
       "      <td>397000.0</td>\n",
       "      <td>381000.0</td>\n",
       "      <td>393000.0</td>\n",
       "      <td>385500.0</td>\n",
       "      <td>209812.0</td>\n",
       "      <td>285130</td>\n",
       "      <td>2021-02-25</td>\n",
       "    </tr>\n",
       "    <tr>\n",
       "      <th>530</th>\n",
       "      <td>379000.0</td>\n",
       "      <td>368000.0</td>\n",
       "      <td>374000.0</td>\n",
       "      <td>377000.0</td>\n",
       "      <td>182034.0</td>\n",
       "      <td>285130</td>\n",
       "      <td>2021-02-26</td>\n",
       "    </tr>\n",
       "  </tbody>\n",
       "</table>\n",
       "</div>"
      ],
      "text/plain": [
       "     high_price  low_price  open_price  close_price    volume stock_code  \\\n",
       "526    380500.0   358000.0    380500.0     361500.0  203894.0     285130   \n",
       "527    372500.0   352000.0    360000.0     366500.0  220378.0     285130   \n",
       "528    390500.0   366500.0    369000.0     385000.0  404266.0     285130   \n",
       "529    397000.0   381000.0    393000.0     385500.0  209812.0     285130   \n",
       "530    379000.0   368000.0    374000.0     377000.0  182034.0     285130   \n",
       "\n",
       "           date  \n",
       "526  2021-02-22  \n",
       "527  2021-02-23  \n",
       "528  2021-02-24  \n",
       "529  2021-02-25  \n",
       "530  2021-02-26  "
      ]
     },
     "metadata": {},
     "output_type": "display_data"
    }
   ],
   "source": [
    "# finding the optimum k through elbow method\n",
    "def get_optimum_clusters(data, saturation_point=0.05):\n",
    "\n",
    "    wcss = []\n",
    "    k_models = []\n",
    "\n",
    "    size = 11\n",
    "    for i in range(1, size):\n",
    "        kmeans = KMeans(n_clusters=i)\n",
    "        kmeans.fit(data)\n",
    "        wcss.append(kmeans.inertia_)\n",
    "    k_models.append(kmeans)\n",
    "        \n",
    "    plt.plot(range(1,11), wcss)\n",
    "            \n",
    "    return k_models\n",
    "\n",
    "display(kospi_df.tail())"
   ]
  },
  {
   "cell_type": "code",
   "execution_count": 3,
   "metadata": {},
   "outputs": [],
   "source": [
    "low = pd.DataFrame(data=kospi_df['low_price'], index=kospi_df.index)\n",
    "high = pd.DataFrame(data=kospi_df['high_price'], index=kospi_df.index)\n"
   ]
  },
  {
   "cell_type": "code",
   "execution_count": 7,
   "metadata": {},
   "outputs": [
    {
     "data": {
      "text/plain": [
       "array([[ 69000.],\n",
       "       [ 68800.],\n",
       "       [ 66300.],\n",
       "       ...,\n",
       "       [390500.],\n",
       "       [397000.],\n",
       "       [379000.]])"
      ]
     },
     "execution_count": 7,
     "metadata": {},
     "output_type": "execute_result"
    }
   ],
   "source": [
    "low_high"
   ]
  },
  {
   "cell_type": "code",
   "execution_count": 14,
   "metadata": {},
   "outputs": [
    {
     "name": "stderr",
     "output_type": "stream",
     "text": [
      "C:\\anaconda3\\lib\\site-packages\\sklearn\\cluster\\_kmeans.py:882: UserWarning: KMeans is known to have a memory leak on Windows with MKL, when there are less chunks than available threads. You can avoid it by setting the environment variable OMP_NUM_THREADS=5.\n",
      "  f\"KMeans is known to have a memory leak on Windows \"\n"
     ]
    },
    {
     "data": {
      "image/png": "[encoded data removed]",
      "text/plain": [
       "<Figure size 432x288 with 1 Axes>"
      ]
     },
     "metadata": {
      "needs_background": "light"
     },
     "output_type": "display_data"
    }
   ],
   "source": [
    "low_high = np.append(low, high)\n",
    "low_high = low_high.reshape((-1, 1))\n",
    "\n",
    "# index 3 as 4 is the value of K (elbow point)\n",
    "clusters = get_optimum_clusters(low_high)[0]\n",
    "\n",
    "centers = clusters.cluster_centers_\n",
    "\n",
    "#finding the optimum k using the silhouette method\n",
    "def optimum_Kvalue(data):\n",
    "    kmax = 11\n",
    "    sil = {}\n",
    "    k_model = {}\n",
    "    for k in range(2, kmax+1):\n",
    "        kmeans = KMeans(n_clusters = k).fit(data)\n",
    "        k_model[k] = kmeans\n",
    "        labels = kmeans.labels_\n",
    "        sil[k]=(silhouette_score(data, labels))\n",
    "    optimum_cluster = k_model[max(sil, key=sil.get)]\n",
    "    return optimum_cluster\n",
    "  \n",
    "low_high_cl = optimum_Kvalue(low_high)\n",
    "\n",
    "low_high_ce = low_high_cl.cluster_centers_"
   ]
  },
  {
   "cell_type": "code",
   "execution_count": 15,
   "metadata": {},
   "outputs": [
    {
     "name": "stdout",
     "output_type": "stream",
     "text": [
      "low ce :  [68382.39895698]\n",
      "low ce :  [374398.30508475]\n"
     ]
    },
    {
     "data": {
      "image/png": "[encoded data removed]",
      "text/plain": [
       "<Figure size 1440x432 with 1 Axes>"
      ]
     },
     "metadata": {
      "needs_background": "light"
     },
     "output_type": "display_data"
    }
   ],
   "source": [
    "# kospi_df - Stock Price Chart\n",
    "fig = plt.figure(figsize=(20,6))\n",
    "ax1 = fig.add_subplot(111)\n",
    "\n",
    "candlestick2_ohlc(ax1, kospi_df['open_price'], kospi_df['high_price'], \n",
    "                  kospi_df['low_price'], kospi_df['close_price'],\n",
    "                  width=0.5, colorup='r', colordown='b')\n",
    "ax1.xaxis.set_ticks([])\n",
    "plt.xlabel(None)\n",
    "\n",
    "\n",
    "for i in low_high_ce:\n",
    "    print('low ce : ', i)\n",
    "    ax1.axhline(i, c='g', ls='--', label = '')\n",
    "plt.show()"
   ]
  }
 ],
 "metadata": {
  "kernelspec": {
   "display_name": "Python 3",
   "language": "python",
   "name": "python3"
  },
  "language_info": {
   "codemirror_mode": {
    "name": "ipython",
    "version": 3
   },
   "file_extension": ".py",
   "mimetype": "text/x-python",
   "name": "python",
   "nbconvert_exporter": "python",
   "pygments_lexer": "ipython3",
   "version": "3.7.0"
  }
 },
 "nbformat": 4,
 "nbformat_minor": 4
}
